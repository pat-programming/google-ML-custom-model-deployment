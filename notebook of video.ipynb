{
  "nbformat": 4,
  "nbformat_minor": 0,
  "metadata": {
    "colab": {
      "name": "googledeploy.ipynb",
      "provenance": [],
      "collapsed_sections": [],
      "toc_visible": true
    },
    "kernelspec": {
      "name": "python3",
      "display_name": "Python 3"
    }
  },
  "cells": [
    {
      "cell_type": "markdown",
      "metadata": {
        "id": "yalynoQy8FtT",
        "colab_type": "text"
      },
      "source": [
        "# Step 2: Train model and artifact export"
      ]
    },
    {
      "cell_type": "markdown",
      "metadata": {
        "id": "EKDKrV0wtPrp",
        "colab_type": "text"
      },
      "source": [
        "Train prediciton model and export model + preprocessor\n"
      ]
    },
    {
      "cell_type": "code",
      "metadata": {
        "id": "vUe6gkHYtQfL",
        "colab_type": "code",
        "colab": {}
      },
      "source": [
        "import pickle\n",
        "\n",
        "from sklearn.datasets import load_iris\n",
        "import tensorflow as tf\n",
        "\n",
        "from preprocess import MySimpleScaler\n",
        "\n",
        "iris = load_iris()\n",
        "scaler = MySimpleScaler()\n",
        "num_classes = len(iris.target_names)\n",
        "X = scaler.preprocess(iris.data)\n",
        "y = tf.keras.utils.to_categorical(iris.target, num_classes=num_classes)\n",
        "\n",
        "model = tf.keras.Sequential()\n",
        "model.add(tf.keras.layers.Dense(25, activation=tf.nn.relu))\n",
        "model.add(tf.keras.layers.Dense(25, activation=tf.nn.relu))\n",
        "model.add(tf.keras.layers.Dense(num_classes, activation=tf.nn.softmax))\n",
        "model.compile(\n",
        "  optimizer='adam', loss='categorical_crossentropy', metrics=['accuracy'])\n",
        "model.fit(X, y, epochs=10, batch_size=1)\n",
        "\n",
        "#export\n",
        "model.save('model.h5')\n",
        "with open ('preprocessor.pkl', 'wb') as f:\n",
        "  pickle.dump(scaler, f)"
      ],
      "execution_count": 0,
      "outputs": []
    },
    {
      "cell_type": "markdown",
      "metadata": {
        "id": "B4K3p5FM7hMc",
        "colab_type": "text"
      },
      "source": [
        "# Step 3: Upload exported data"
      ]
    },
    {
      "cell_type": "markdown",
      "metadata": {
        "id": "U4V97hw988IT",
        "colab_type": "text"
      },
      "source": [
        "general name variables"
      ]
    },
    {
      "cell_type": "code",
      "metadata": {
        "id": "Uk9LbncsODbo",
        "colab_type": "code",
        "colab": {}
      },
      "source": [
        "import uuid\n",
        "REGION=\"us-central1\" #sever region of google cloud ml\n",
        "PROJECT_ID = 'autodeploy1-264112' #The project you have created in google\n",
        "BUCKET_NAME = \"colab_deploy_v2\" + str(uuid.uuid1()) #name of the google storage bucket where the data gets uploaded"
      ],
      "execution_count": 0,
      "outputs": []
    },
    {
      "cell_type": "code",
      "metadata": {
        "id": "1H3e1boNQW9M",
        "colab_type": "code",
        "colab": {}
      },
      "source": [
        "MODEL_NAME='IrisPredictor1' #name of the deployed model\n",
        "VERSION_NAME='v1' #version of the deployed model"
      ],
      "execution_count": 0,
      "outputs": []
    },
    {
      "cell_type": "markdown",
      "metadata": {
        "id": "Q_pQZg7c8yF2",
        "colab_type": "text"
      },
      "source": [
        "Authentication with your account. Paste the access code"
      ]
    },
    {
      "cell_type": "code",
      "metadata": {
        "id": "JKk6ZmrAOmCu",
        "colab_type": "code",
        "colab": {}
      },
      "source": [
        "from google.colab import auth\n",
        "auth.authenticate_user()"
      ],
      "execution_count": 0,
      "outputs": []
    },
    {
      "cell_type": "markdown",
      "metadata": {
        "id": "z7NAkAcc9I2R",
        "colab_type": "text"
      },
      "source": [
        "set the gcloud project in which we are working"
      ]
    },
    {
      "cell_type": "code",
      "metadata": {
        "id": "jfhodHBzO0xw",
        "colab_type": "code",
        "outputId": "2aebd400-0c9b-4391-c7ef-008f10bc0df4",
        "colab": {
          "base_uri": "https://localhost:8080/",
          "height": 121
        }
      },
      "source": [
        "!gcloud config set project {PROJECT_ID}"
      ],
      "execution_count": 0,
      "outputs": [
        {
          "output_type": "stream",
          "text": [
            "Updated property [core/project].\n",
            "\n",
            "\n",
            "To take a quick anonymous survey, run:\n",
            "  $ gcloud survey\n",
            "\n"
          ],
          "name": "stdout"
        }
      ]
    },
    {
      "cell_type": "code",
      "metadata": {
        "id": "Jd2A-ldjO-aq",
        "colab_type": "code",
        "outputId": "4ecd662b-a519-4b96-849a-b24451000d41",
        "colab": {
          "base_uri": "https://localhost:8080/",
          "height": 34
        }
      },
      "source": [
        "#create bucket\n",
        "!gsutil mb gs://{BUCKET_NAME}"
      ],
      "execution_count": 0,
      "outputs": [
        {
          "output_type": "stream",
          "text": [
            "Creating gs://colab_deploy_v2e052c34e-2fc7-11ea-8c94-0242ac1c0002/...\n"
          ],
          "name": "stdout"
        }
      ]
    },
    {
      "cell_type": "markdown",
      "metadata": {
        "id": "ysA-_ZceNErX",
        "colab_type": "text"
      },
      "source": [
        "Zip files based on setup.py"
      ]
    },
    {
      "cell_type": "code",
      "metadata": {
        "id": "ipVE5GRtMSHj",
        "colab_type": "code",
        "outputId": "13d18148-6ec1-429d-d2a3-09b14939789b",
        "colab": {
          "base_uri": "https://localhost:8080/",
          "height": 537
        }
      },
      "source": [
        "!python setup.py sdist --formats=gztar"
      ],
      "execution_count": 0,
      "outputs": [
        {
          "output_type": "stream",
          "text": [
            "running sdist\n",
            "running egg_info\n",
            "creating my_custom_code.egg-info\n",
            "writing my_custom_code.egg-info/PKG-INFO\n",
            "writing dependency_links to my_custom_code.egg-info/dependency_links.txt\n",
            "writing top-level names to my_custom_code.egg-info/top_level.txt\n",
            "writing manifest file 'my_custom_code.egg-info/SOURCES.txt'\n",
            "reading manifest file 'my_custom_code.egg-info/SOURCES.txt'\n",
            "writing manifest file 'my_custom_code.egg-info/SOURCES.txt'\n",
            "warning: sdist: standard file not found: should have one of README, README.rst, README.txt, README.md\n",
            "\n",
            "running check\n",
            "warning: check: missing required meta-data: url\n",
            "\n",
            "warning: check: missing meta-data: either (author and author_email) or (maintainer and maintainer_email) must be supplied\n",
            "\n",
            "creating my_custom_code-0.1\n",
            "creating my_custom_code-0.1/my_custom_code.egg-info\n",
            "copying files to my_custom_code-0.1...\n",
            "copying predictor.py -> my_custom_code-0.1\n",
            "copying preprocess.py -> my_custom_code-0.1\n",
            "copying setup.py -> my_custom_code-0.1\n",
            "copying my_custom_code.egg-info/PKG-INFO -> my_custom_code-0.1/my_custom_code.egg-info\n",
            "copying my_custom_code.egg-info/SOURCES.txt -> my_custom_code-0.1/my_custom_code.egg-info\n",
            "copying my_custom_code.egg-info/dependency_links.txt -> my_custom_code-0.1/my_custom_code.egg-info\n",
            "copying my_custom_code.egg-info/top_level.txt -> my_custom_code-0.1/my_custom_code.egg-info\n",
            "Writing my_custom_code-0.1/setup.cfg\n",
            "creating dist\n",
            "Creating tar archive\n",
            "removing 'my_custom_code-0.1' (and everything under it)\n"
          ],
          "name": "stdout"
        }
      ]
    },
    {
      "cell_type": "markdown",
      "metadata": {
        "id": "TWjGA_bdNMZ_",
        "colab_type": "text"
      },
      "source": [
        "**AI Platform needs access to the following files to deploy custom pipeline procedure:**\n",
        "\n",
        "*   model.h5 (exported trained model artifact)\n",
        "*   preprocessor.pkl (exported preprocess artifact)\n",
        "*   my_custom_code-0.1.tar.gz (custom code)\n",
        "\n",
        "\n",
        "\n",
        "\n"
      ]
    },
    {
      "cell_type": "markdown",
      "metadata": {
        "id": "t5t2u8_9NVP2",
        "colab_type": "text"
      },
      "source": [
        "Upload the files to the created bucket"
      ]
    },
    {
      "cell_type": "code",
      "metadata": {
        "id": "Ppm5u8YENCRt",
        "colab_type": "code",
        "outputId": "399cf717-90a8-4066-8c16-f361535a4ff2",
        "colab": {
          "base_uri": "https://localhost:8080/",
          "height": 86
        }
      },
      "source": [
        "# source distribution package (Predictor and Pre-processor)\n",
        "#!gsutil cp ./dist/my_custom_code-0.1.tar.gz gs://{BUCKET_NAME}/custom_prediction_routine/my_custom_code-0.1.tar.gz\n",
        "#  Artifacts - model + preprocess\n",
        "!gsutil cp model.h5 preprocessor.pkl gs://{BUCKET_NAME}/custom_prediction_routine/model/"
      ],
      "execution_count": 0,
      "outputs": [
        {
          "output_type": "stream",
          "text": [
            "Copying file://model.h5 [Content-Type=application/octet-stream]...\n",
            "Copying file://preprocessor.pkl [Content-Type=application/octet-stream]...\n",
            "-\n",
            "Operation completed over 2 objects/47.5 KiB.                                     \n"
          ],
          "name": "stdout"
        }
      ]
    },
    {
      "cell_type": "code",
      "metadata": {
        "id": "tfH-3ditNCLl",
        "colab_type": "code",
        "outputId": "c631b597-e52f-40a9-8385-51099bdf69d0",
        "colab": {
          "base_uri": "https://localhost:8080/",
          "height": 34
        }
      },
      "source": [
        "!gcloud ai-platform models create {MODEL_NAME} \\\n",
        "  --regions {REGION}"
      ],
      "execution_count": 0,
      "outputs": [
        {
          "output_type": "stream",
          "text": [
            "Created ml engine model [projects/autodeploy1-264112/models/IrisPredictor1].\n"
          ],
          "name": "stdout"
        }
      ]
    },
    {
      "cell_type": "markdown",
      "metadata": {
        "id": "FF-vLydhNx9f",
        "colab_type": "text"
      },
      "source": [
        "# Get Prediction from Model"
      ]
    },
    {
      "cell_type": "code",
      "metadata": {
        "id": "JOqzC_kwNz9Q",
        "colab_type": "code",
        "outputId": "a5af3c06-3487-412a-f751-8ffdf817f2e8",
        "colab": {
          "base_uri": "https://localhost:8080/",
          "height": 210
        }
      },
      "source": [
        "pip install --upgrade google-api-python-client"
      ],
      "execution_count": 0,
      "outputs": [
        {
          "output_type": "stream",
          "text": [
            "Requirement already up-to-date: google-api-python-client in /usr/local/lib/python3.6/dist-packages (1.7.11)\n",
            "Requirement already satisfied, skipping upgrade: httplib2<1dev,>=0.9.2 in /usr/local/lib/python3.6/dist-packages (from google-api-python-client) (0.11.3)\n",
            "Requirement already satisfied, skipping upgrade: google-auth>=1.4.1 in /usr/local/lib/python3.6/dist-packages (from google-api-python-client) (1.4.2)\n",
            "Requirement already satisfied, skipping upgrade: six<2dev,>=1.6.1 in /usr/local/lib/python3.6/dist-packages (from google-api-python-client) (1.12.0)\n",
            "Requirement already satisfied, skipping upgrade: google-auth-httplib2>=0.0.3 in /usr/local/lib/python3.6/dist-packages (from google-api-python-client) (0.0.3)\n",
            "Requirement already satisfied, skipping upgrade: uritemplate<4dev,>=3.0.0 in /usr/local/lib/python3.6/dist-packages (from google-api-python-client) (3.0.0)\n",
            "Requirement already satisfied, skipping upgrade: rsa>=3.1.4 in /usr/local/lib/python3.6/dist-packages (from google-auth>=1.4.1->google-api-python-client) (4.0)\n",
            "Requirement already satisfied, skipping upgrade: pyasn1-modules>=0.2.1 in /usr/local/lib/python3.6/dist-packages (from google-auth>=1.4.1->google-api-python-client) (0.2.7)\n",
            "Requirement already satisfied, skipping upgrade: cachetools>=2.0.0 in /usr/local/lib/python3.6/dist-packages (from google-auth>=1.4.1->google-api-python-client) (4.0.0)\n",
            "Requirement already satisfied, skipping upgrade: pyasn1>=0.1.3 in /usr/local/lib/python3.6/dist-packages (from rsa>=3.1.4->google-auth>=1.4.1->google-api-python-client) (0.4.8)\n"
          ],
          "name": "stdout"
        }
      ]
    },
    {
      "cell_type": "code",
      "metadata": {
        "id": "KZse7fERN0rW",
        "colab_type": "code",
        "outputId": "be2cd616-2ff6-406b-eb65-ad31a99fe1c4",
        "colab": {
          "base_uri": "https://localhost:8080/",
          "height": 34
        }
      },
      "source": [
        "import googleapiclient.discovery\n",
        "\n",
        "instances = [\n",
        "  [6.7, 3.1, 4.7, 1.5],\n",
        "  [4.6, 3.1, 1.5, 0.2],\n",
        "]\n",
        "\n",
        "service = googleapiclient.discovery.build('ml', 'v1')\n",
        "name = 'projects/{}/models/{}/versions/{}'.format(PROJECT_ID, MODEL_NAME, VERSION_NAME)\n",
        "\n",
        "response = service.projects().predict(\n",
        "    name=name,\n",
        "    body={'instances': instances}\n",
        ").execute()\n",
        "\n",
        "if 'error' in response:\n",
        "    raise RuntimeError(response['error'])\n",
        "else:\n",
        "  print(response['predictions'])"
      ],
      "execution_count": 0,
      "outputs": [
        {
          "output_type": "stream",
          "text": [
            "['versicolor', 'setosa']\n"
          ],
          "name": "stdout"
        }
      ]
    }
  ]
}